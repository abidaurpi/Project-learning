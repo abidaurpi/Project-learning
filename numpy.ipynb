{
  "nbformat": 4,
  "nbformat_minor": 0,
  "metadata": {
    "colab": {
      "provenance": [],
      "authorship_tag": "ABX9TyNA00nypzUnJAST87GidkO1",
      "include_colab_link": true
    },
    "kernelspec": {
      "name": "python3",
      "display_name": "Python 3"
    },
    "language_info": {
      "name": "python"
    }
  },
  "cells": [
    {
      "cell_type": "markdown",
      "metadata": {
        "id": "view-in-github",
        "colab_type": "text"
      },
      "source": [
        "<a href=\"https://colab.research.google.com/github/abidaurpi/Project-learning/blob/main/numpy.ipynb\" target=\"_parent\"><img src=\"https://colab.research.google.com/assets/colab-badge.svg\" alt=\"Open In Colab\"/></a>"
      ]
    },
    {
      "cell_type": "markdown",
      "source": [
        "#Numpy array and basics\n",
        "#learn about numpy with chai aur code\n"
      ],
      "metadata": {
        "id": "CCLkguiCuIea"
      }
    },
    {
      "cell_type": "code",
      "source": [
        "import numpy as np"
      ],
      "metadata": {
        "id": "hJ6O_aWBuWEu"
      },
      "execution_count": 1,
      "outputs": []
    },
    {
      "cell_type": "code",
      "source": [
        "arr_1d=np.array([1,2,3,4,5])\n",
        "print(\"1D array:\", arr_1d)\n",
        "arr_2d=np.array([[1,2,3],[4,5,6]])\n",
        "print(\"2D array:\", arr_2d)"
      ],
      "metadata": {
        "colab": {
          "base_uri": "https://localhost:8080/"
        },
        "id": "PygdPlMVuvGE",
        "outputId": "bd25b36e-fca5-4aac-9ad0-6aa1d5c5f057"
      },
      "execution_count": 2,
      "outputs": [
        {
          "output_type": "stream",
          "name": "stdout",
          "text": [
            "1D array: [1 2 3 4 5]\n",
            "2D array: [[1 2 3]\n",
            " [4 5 6]]\n"
          ]
        }
      ]
    },
    {
      "cell_type": "markdown",
      "source": [
        "# list vs numpy array\n"
      ],
      "metadata": {
        "id": "HVuDFwsevXvG"
      }
    },
    {
      "cell_type": "code",
      "source": [
        "import numpy as np\n",
        "py_list=[1,2,3]\n",
        "print(\"Python list multiplication\",py_list *2)\n",
        "\n",
        "np_array=np.array([1,2,3])\n",
        "print(\"Pyhton arrray multiplication\",np_array*2)\n",
        "\n",
        "import time\n",
        "start =time.time()\n",
        "py_list=[i*2 for i in range(1000000)]\n",
        "print(\"\\n List operation time: \",time.time()-start)\n",
        "start =time.time()\n",
        "np_array=np.arange(1000000)*2\n",
        "print(\"\\n Numpy operation time: \",time.time()-start)\n"
      ],
      "metadata": {
        "colab": {
          "base_uri": "https://localhost:8080/"
        },
        "id": "osES-kqPvZYS",
        "outputId": "33200dbe-e81e-4dfb-9c11-9dbb667c4fb0"
      },
      "execution_count": 3,
      "outputs": [
        {
          "output_type": "stream",
          "name": "stdout",
          "text": [
            "Python list multiplication [1, 2, 3, 1, 2, 3]\n",
            "Pyhton arrray multiplication [2 4 6]\n",
            "\n",
            " List operation time:  0.09846043586730957\n",
            "\n",
            " Numpy operation time:  0.007350444793701172\n"
          ]
        }
      ]
    },
    {
      "cell_type": "markdown",
      "source": [
        "#Creating array from scratch"
      ],
      "metadata": {
        "id": "5rg-AFuNv8zI"
      }
    },
    {
      "cell_type": "code",
      "source": [
        "zeros= np.zeros((3,4))\n",
        "print(\"Zeros array:\\n\",zeros)\n",
        "\n",
        "ones=np.ones((2,3))\n",
        "print(\"\\nOnes array:\\n\",ones)\n",
        "\n",
        "full=np.full((2,2),7)\n",
        "print(\"\\nFull array:\\n\",full)\n",
        "\n",
        "\n",
        "random=np.random.random((2,3))\n",
        "print(\"\\n Random array:\\n\",random)\n",
        "\n",
        "sequence=np.arange(0,11,2)\n",
        "print(\"\\n Sequence array:\\n\",sequence)\n",
        "\n"
      ],
      "metadata": {
        "id": "928r89wvv7S9",
        "colab": {
          "base_uri": "https://localhost:8080/"
        },
        "outputId": "a3d93aed-17bc-4b88-d170-d78b55797c1c"
      },
      "execution_count": 4,
      "outputs": [
        {
          "output_type": "stream",
          "name": "stdout",
          "text": [
            "Zeros array:\n",
            " [[0. 0. 0. 0.]\n",
            " [0. 0. 0. 0.]\n",
            " [0. 0. 0. 0.]]\n",
            "\n",
            "Ones array:\n",
            " [[1. 1. 1.]\n",
            " [1. 1. 1.]]\n",
            "\n",
            "Full array:\n",
            " [[7 7]\n",
            " [7 7]]\n",
            "\n",
            " Random array:\n",
            " [[0.99699253 0.74858059 0.15766218]\n",
            " [0.34136247 0.80362888 0.82827211]]\n",
            "\n",
            " Sequence array:\n",
            " [ 0  2  4  6  8 10]\n"
          ]
        }
      ]
    },
    {
      "cell_type": "markdown",
      "source": [
        "#Vector, Matrix, Tensor"
      ],
      "metadata": {
        "id": "0H4Bi3hTyhYI"
      }
    },
    {
      "cell_type": "code",
      "source": [
        "vector=np.array([1,2,3,4])\n",
        "print(\"Vector:\\n\",vector)\n",
        "\n",
        "matrix=np.array([[1,2,3],\n",
        "                 [4,5,6]])\n",
        "print(\"\\n Matrix:\\n\",matrix)\n",
        "\n",
        "tensor=np.array([[[1,2],[3,4]],\n",
        "                 [[5,6],[7,8]]])\n",
        "print(\"\\n Tensor:\\n\",tensor)"
      ],
      "metadata": {
        "colab": {
          "base_uri": "https://localhost:8080/"
        },
        "collapsed": true,
        "id": "8zS4Nm7QymmQ",
        "outputId": "225c3d20-0253-40a0-d589-586396b38094"
      },
      "execution_count": 5,
      "outputs": [
        {
          "output_type": "stream",
          "name": "stdout",
          "text": [
            "Vector:\n",
            " [1 2 3 4]\n",
            "\n",
            " Matrix:\n",
            " [[1 2 3]\n",
            " [4 5 6]]\n",
            "\n",
            " Tensor:\n",
            " [[[1 2]\n",
            "  [3 4]]\n",
            "\n",
            " [[5 6]\n",
            "  [7 8]]]\n"
          ]
        }
      ]
    },
    {
      "cell_type": "markdown",
      "source": [
        "#Array properties"
      ],
      "metadata": {
        "id": "71FqSp7ozwGI"
      }
    },
    {
      "cell_type": "code",
      "source": [
        "arr= np.array([[1,2,3],\n",
        "               [4,5.8,True]])\n",
        "print(\"Shape:\",arr.shape)\n",
        "print(\"Dimension:\",arr.ndim)\n",
        "print(\"Size(No of elements):\",arr.size)\n",
        "print(\"Data type:\",arr.dtype)"
      ],
      "metadata": {
        "colab": {
          "base_uri": "https://localhost:8080/"
        },
        "id": "jCXYfh51zy-G",
        "outputId": "06f3b551-7728-43f0-b74e-daf246434b17"
      },
      "execution_count": 6,
      "outputs": [
        {
          "output_type": "stream",
          "name": "stdout",
          "text": [
            "Shape: (2, 3)\n",
            "Dimension: 2\n",
            "Size(No of elements): 6\n",
            "Data type: float64\n"
          ]
        }
      ]
    },
    {
      "cell_type": "markdown",
      "source": [
        "#Array Reshaping"
      ],
      "metadata": {
        "id": "_aPuwIne0pdv"
      }
    },
    {
      "cell_type": "code",
      "source": [
        "arr= np.arange(12)\n",
        "print(\"Original Array :\",arr)\n",
        "\n",
        "reshape=arr.reshape((3,4))\n",
        "print(\"\\nReshaped Original Array :\\n\",reshape)\n",
        "\n",
        "flattened=reshape.flatten()\n",
        "print(\"\\nFlattened Array :\\n\",flattened)\n",
        "\n",
        "\n",
        "# ravel returns view, instead of copy.\n",
        "raveled=reshape.ravel()\n",
        "print(\"\\nRaveled Array :\\n\",raveled)\n",
        "\n",
        "#transpose matrix\n",
        "\n",
        "transpose=reshape.T\n",
        "print(\"\\n Transpose Array:\\n\",transpose)"
      ],
      "metadata": {
        "colab": {
          "base_uri": "https://localhost:8080/"
        },
        "id": "5RLqacrQ0r0p",
        "outputId": "e140b623-3bbd-45e3-a65f-c27c0fc6b859"
      },
      "execution_count": 7,
      "outputs": [
        {
          "output_type": "stream",
          "name": "stdout",
          "text": [
            "Original Array : [ 0  1  2  3  4  5  6  7  8  9 10 11]\n",
            "\n",
            "Reshaped Original Array :\n",
            " [[ 0  1  2  3]\n",
            " [ 4  5  6  7]\n",
            " [ 8  9 10 11]]\n",
            "\n",
            "Flattened Array :\n",
            " [ 0  1  2  3  4  5  6  7  8  9 10 11]\n",
            "\n",
            "Raveled Array :\n",
            " [ 0  1  2  3  4  5  6  7  8  9 10 11]\n",
            "\n",
            " Transpose Array:\n",
            " [[ 0  4  8]\n",
            " [ 1  5  9]\n",
            " [ 2  6 10]\n",
            " [ 3  7 11]]\n"
          ]
        }
      ]
    },
    {
      "cell_type": "markdown",
      "source": [
        "##Numpy Array Operations"
      ],
      "metadata": {
        "id": "gnnpntDmFgMU"
      }
    },
    {
      "cell_type": "code",
      "source": [
        "import numpy as np\n",
        "#indexing and slicing\n",
        "arr=np.array([1,2,3,4,5,6,7,8])\n",
        "print(\"Basic Slicing:\",arr[2:7])\n",
        "print(\"With step:\",arr[2:8:2])\n",
        "print(\"Negative indexing:\",arr[-3])\n",
        "\n",
        "#2D array indexing slicing\n",
        "arr_2d=np.array([[1,2,3],\n",
        "                 [4,5,6],\n",
        "                 [7,8,9]])\n",
        "print(\"Specific Element: \",arr_2d[1,2])\n",
        "print(\"Entire row: \",arr_2d[1])\n",
        "print(\"Entire Column: \",arr_2d[:,1])\n"
      ],
      "metadata": {
        "colab": {
          "base_uri": "https://localhost:8080/"
        },
        "id": "SdFZSlOUFlOO",
        "outputId": "ebf3dfa1-d0d0-4768-bd6b-f1a3cb942bc1"
      },
      "execution_count": 8,
      "outputs": [
        {
          "output_type": "stream",
          "name": "stdout",
          "text": [
            "Basic Slicing: [3 4 5 6 7]\n",
            "With step: [3 5 7]\n",
            "Negative indexing: 6\n",
            "Specific Element:  6\n",
            "Entire row:  [4 5 6]\n",
            "Entire Column:  [2 5 8]\n"
          ]
        }
      ]
    },
    {
      "cell_type": "markdown",
      "source": [
        "#Sorting"
      ],
      "metadata": {
        "id": "g_0mOKMWHSnt"
      }
    },
    {
      "cell_type": "code",
      "source": [
        "unsorted=np.array([3,1,5,2,7,8,4,5])\n",
        "print(\"Sorted array\",np.sort(unsorted))\n",
        "\n",
        "arr_2d_unsorted=np.array([[3,1],\n",
        "                          [1,21],\n",
        "                          [2,3]])\n",
        "print(\"Sorted 2d array by column\\n\",np.sort(arr_2d_unsorted,axis=0))"
      ],
      "metadata": {
        "colab": {
          "base_uri": "https://localhost:8080/"
        },
        "id": "_cyycDnTHVAT",
        "outputId": "2407afff-8664-4a9b-bc39-2e00ca1ac796"
      },
      "execution_count": 9,
      "outputs": [
        {
          "output_type": "stream",
          "name": "stdout",
          "text": [
            "Sorted array [1 2 3 4 5 5 7 8]\n",
            "Sorted 2d array by column\n",
            " [[ 1  1]\n",
            " [ 2  3]\n",
            " [ 3 21]]\n"
          ]
        }
      ]
    },
    {
      "cell_type": "markdown",
      "source": [
        "#FIltering\n"
      ],
      "metadata": {
        "id": "D4XNPhQ7ItY3"
      }
    },
    {
      "cell_type": "code",
      "source": [
        "numbers=np.array([1,2,3,4,5,6,7,8,9,10])\n",
        "even_number=numbers[numbers %2==0]\n",
        "print(\"Even numbers\",even_number)"
      ],
      "metadata": {
        "colab": {
          "base_uri": "https://localhost:8080/"
        },
        "id": "meAvYzrmIvhT",
        "outputId": "98336603-990d-4abe-d228-ad7d5f7f6179"
      },
      "execution_count": 10,
      "outputs": [
        {
          "output_type": "stream",
          "name": "stdout",
          "text": [
            "Even numbers [ 2  4  6  8 10]\n"
          ]
        }
      ]
    },
    {
      "cell_type": "markdown",
      "source": [
        "#Filter with mask"
      ],
      "metadata": {
        "id": "qLix6_gPJqit"
      }
    },
    {
      "cell_type": "code",
      "source": [
        "mask=numbers>5\n",
        "print(\"Numbers Greater than 5 \",numbers[mask])"
      ],
      "metadata": {
        "colab": {
          "base_uri": "https://localhost:8080/"
        },
        "id": "yOF8MKfzJsW7",
        "outputId": "9456ded9-1a36-4f45-a658-31cdd3b8d4d9"
      },
      "execution_count": 11,
      "outputs": [
        {
          "output_type": "stream",
          "name": "stdout",
          "text": [
            "Numbers Greater than 5  [ 6  7  8  9 10]\n"
          ]
        }
      ]
    },
    {
      "cell_type": "markdown",
      "source": [
        "##Fancy indexing vs np.where()"
      ],
      "metadata": {
        "id": "97Wj10ejKHLC"
      }
    },
    {
      "cell_type": "code",
      "source": [
        "indices=[0,2,4]\n",
        "print(numbers[indices])\n",
        "\n",
        "where_result=np.where(numbers>5)\n",
        "print(where_result)#index number print kore\n",
        "print(\"NP where:\",numbers[where_result])"
      ],
      "metadata": {
        "colab": {
          "base_uri": "https://localhost:8080/"
        },
        "id": "2EOe9XpFKLVw",
        "outputId": "8bf61eae-7ff7-4f25-d77d-bc6c653816e9"
      },
      "execution_count": 12,
      "outputs": [
        {
          "output_type": "stream",
          "name": "stdout",
          "text": [
            "[1 3 5]\n",
            "(array([5, 6, 7, 8, 9]),)\n",
            "NP where: [ 6  7  8  9 10]\n"
          ]
        }
      ]
    },
    {
      "cell_type": "code",
      "source": [
        "import numpy as np\n",
        "numbers=np.array([1,2,3,4,5,6,7,8,9,10])\n",
        "condition_array= np.where(numbers>5,numbers*2,numbers)\n",
        "condition_array= np.where(numbers>5,\"ture\",\"false\")\n",
        "print(condition_array)\n",
        "\n",
        "# if (numbers>5){\n",
        "#     numbers*2\n",
        "# }else{\n",
        "#     numbers\n",
        "# }"
      ],
      "metadata": {
        "colab": {
          "base_uri": "https://localhost:8080/"
        },
        "id": "9pwVD5e1NCo_",
        "outputId": "838ae305-8a44-48f7-9aeb-1104d1ad906b"
      },
      "execution_count": 13,
      "outputs": [
        {
          "output_type": "stream",
          "name": "stdout",
          "text": [
            "['false' 'false' 'false' 'false' 'false' 'ture' 'ture' 'ture' 'ture'\n",
            " 'ture']\n"
          ]
        }
      ]
    },
    {
      "cell_type": "markdown",
      "source": [
        "##adding and removing data"
      ],
      "metadata": {
        "id": "LzblCJZoPflS"
      }
    },
    {
      "cell_type": "code",
      "source": [
        "#2 array ke merge kivabe kore?\n",
        "arr1=np.array([1,2,3])\n",
        "arr2=np.array([4,5,6])\n",
        "\n",
        "combined=arr1+arr2\n",
        "print(\"Array addition:\",combined)\n",
        "combined1=np.concatenate((arr1,arr2))\n",
        "print(\"Array concatenate:\",combined1)"
      ],
      "metadata": {
        "colab": {
          "base_uri": "https://localhost:8080/"
        },
        "id": "3TpLSfEBPiLa",
        "outputId": "39e4fc62-5954-4be0-f28e-2c98801545fb"
      },
      "execution_count": 14,
      "outputs": [
        {
          "output_type": "stream",
          "name": "stdout",
          "text": [
            "Array addition: [5 7 9]\n",
            "Array concatenate: [1 2 3 4 5 6]\n"
          ]
        }
      ]
    },
    {
      "cell_type": "markdown",
      "source": [
        "##Array compatibilty"
      ],
      "metadata": {
        "id": "msNObJnLQjhr"
      }
    },
    {
      "cell_type": "code",
      "source": [
        "a=np.array([1,2,3])\n",
        "b=np.array([4,5,6,7])\n",
        "c=np.array([7,8,9])\n",
        "\n",
        "print(\"Compatibility shapes:\",a.shape==b.shape)\n",
        "print(\"Compatibility shapes:\",a.shape==c.shape)"
      ],
      "metadata": {
        "colab": {
          "base_uri": "https://localhost:8080/"
        },
        "id": "gpPgCr63Ql9O",
        "outputId": "8f0fbacd-ca89-469f-ca3b-2f0c02afff11"
      },
      "execution_count": 15,
      "outputs": [
        {
          "output_type": "stream",
          "name": "stdout",
          "text": [
            "Compatibility shapes: False\n",
            "Compatibility shapes: True\n"
          ]
        }
      ]
    },
    {
      "cell_type": "markdown",
      "source": [
        "#add column and row"
      ],
      "metadata": {
        "id": "igHOsVhOUYm0"
      }
    },
    {
      "cell_type": "code",
      "source": [
        "original=np.array([[1,2],[3,5]])\n",
        "new_row=np.array([[5,6]])\n",
        "with_new_row=np.vstack((original,new_row)) #vstack always row add kore. vertical stack\n",
        "print(original,\"\\n\")\n",
        "print(with_new_row)\n",
        "\n",
        "new_col=np.array([[7],[8]])\n",
        "with_new_col=np.hstack((original,new_col)) #hstack always column add kore. horizontal stack\n",
        "print(original,\"\\n\")\n",
        "print(\"With new column\\n\",with_new_col)"
      ],
      "metadata": {
        "colab": {
          "base_uri": "https://localhost:8080/"
        },
        "id": "hR1LevU8RCrl",
        "outputId": "a26baa7b-5f67-4270-e76e-ff844bb2b34e"
      },
      "execution_count": 16,
      "outputs": [
        {
          "output_type": "stream",
          "name": "stdout",
          "text": [
            "[[1 2]\n",
            " [3 5]] \n",
            "\n",
            "[[1 2]\n",
            " [3 5]\n",
            " [5 6]]\n",
            "[[1 2]\n",
            " [3 5]] \n",
            "\n",
            "With new column\n",
            " [[1 2 7]\n",
            " [3 5 8]]\n"
          ]
        }
      ]
    },
    {
      "cell_type": "markdown",
      "source": [
        "#delete operation"
      ],
      "metadata": {
        "id": "5N1GfHyOU_v0"
      }
    },
    {
      "cell_type": "code",
      "source": [
        "arr=np.array([1,2,3,4,5])\n",
        "deleted=np.delete(arr, 2)\n",
        "print(\"Array after deletion:\",deleted)"
      ],
      "metadata": {
        "colab": {
          "base_uri": "https://localhost:8080/"
        },
        "id": "C7UMHewAVCti",
        "outputId": "aa29609c-b021-4cb0-8505-47f236bcc048"
      },
      "execution_count": 17,
      "outputs": [
        {
          "output_type": "stream",
          "name": "stdout",
          "text": [
            "Array after deletion: [1 2 4 5]\n"
          ]
        }
      ]
    },
    {
      "cell_type": "markdown",
      "source": [
        "#Phase 3. Real world implementation.\n",
        "#Advance operation with Business examples"
      ],
      "metadata": {
        "id": "SvnfVz2kdu5V"
      }
    },
    {
      "cell_type": "code",
      "source": [
        "import numpy as np\n",
        "import matplotlib.pyplot as plt\n",
        "# Data structure: [restaurant_id, 2021, 2022, 2023, 2024]\n",
        "sales_data = np.array([\n",
        "    [1, 150000, 180000, 220000, 250000],  # Paradise Biryani\n",
        "    [2, 120000, 140000, 160000, 190000],  # Beijing Bites\n",
        "    [3, 200000, 230000, 260000, 300000],  # Pizza Hub\n",
        "    [4, 180000, 210000, 240000, 270000],  # Burger Point\n",
        "    [5, 160000, 185000, 205000, 230000]   # Chai Point\n",
        "])\n",
        "\n",
        "print(\"==== Zomato sales analysis ====\")\n",
        "print(\"\\n Sales data shape\",sales_data.shape)\n",
        "print(\"\\n Sample data for 1st 3 restaurant:\\n\",sales_data[:3])\n"
      ],
      "metadata": {
        "colab": {
          "base_uri": "https://localhost:8080/"
        },
        "id": "d26riJ5nd0CW",
        "outputId": "3df0adf2-ba2a-488d-85f6-9654e0d14eea"
      },
      "execution_count": 18,
      "outputs": [
        {
          "output_type": "stream",
          "name": "stdout",
          "text": [
            "==== Zomato sales analysis ====\n",
            "\n",
            " Sales data shape (5, 5)\n",
            "\n",
            " Sample data for 1st 3 restaurant:\n",
            " [[     1 150000 180000 220000 250000]\n",
            " [     2 120000 140000 160000 190000]\n",
            " [     3 200000 230000 260000 300000]]\n"
          ]
        }
      ]
    },
    {
      "cell_type": "markdown",
      "source": [
        "#Total sales per year"
      ],
      "metadata": {
        "id": "LPozkkr3wUZU"
      }
    },
    {
      "cell_type": "code",
      "source": [
        "import numpy as np\n",
        "sales_data = np.array([\n",
        "    [1, 150000, 180000, 220000, 250000],  # Paradise Biryani\n",
        "    [2, 120000, 140000, 160000, 190000],  # Beijing Bites\n",
        "    [3, 200000, 230000, 260000, 300000],  # Pizza Hub\n",
        "    [4, 180000, 210000, 240000, 270000],  # Burger Point\n",
        "    [5, 160000, 185000, 205000, 210000]   # Chai Point\n",
        "])\n",
        "print(np.sum(sales_data,axis=0))\n",
        "yearly_total=np.sum(sales_data[:,1:],axis=0)\n",
        "print(yearly_total)\n",
        "\n",
        "#minimum sales per restaurant\n",
        "min_sales=np.min(sales_data[:,1:],axis=1)\n",
        "print(min_sales)\n",
        "\n",
        "#maximum sales per year\n",
        "max_sales=np.max(sales_data[:,1:],axis=0)\n",
        "print(max_sales)\n",
        "\n",
        "#average sales per restaurant\n",
        "avg_sales=np.mean(sales_data[:,1:],axis=1)\n",
        "print(avg_sales)\n",
        "\n",
        "#cumulative sale\n",
        "cumsum=np.cumsum(sales_data[:,1:],axis=1)\n",
        "print(\"Print cumulative sum:\\n\",cumsum)\n",
        "import matplotlib.pyplot as plt\n",
        "plt.figure(figsize=(10,6))\n",
        "plt.plot(np.mean(cumsum,axis=0))\n",
        "plt.title(\"Averagee Cumulative Sales across all restaurant.\")\n",
        "plt.xlabel(\"Years\")\n",
        "plt.ylabel(\"Average Sales\")\n",
        "plt.grid(True)\n",
        "plt.show()"
      ],
      "metadata": {
        "colab": {
          "base_uri": "https://localhost:8080/",
          "height": 724
        },
        "collapsed": true,
        "id": "pDdCFJNLwT0T",
        "outputId": "3bb0850f-fff7-40b9-a6b4-79fd8de3bbfd"
      },
      "execution_count": 19,
      "outputs": [
        {
          "output_type": "stream",
          "name": "stdout",
          "text": [
            "[     15  810000  945000 1085000 1220000]\n",
            "[ 810000  945000 1085000 1220000]\n",
            "[150000 120000 200000 180000 160000]\n",
            "[200000 230000 260000 300000]\n",
            "[200000. 152500. 247500. 225000. 190000.]\n",
            "Print cumulative sum:\n",
            " [[150000 330000 550000 800000]\n",
            " [120000 260000 420000 610000]\n",
            " [200000 430000 690000 990000]\n",
            " [180000 390000 630000 900000]\n",
            " [160000 345000 550000 760000]]\n"
          ]
        },
        {
          "output_type": "display_data",
          "data": {
            "text/plain": [
              "<Figure size 1000x600 with 1 Axes>"
            ],
            "image/png": "[encoded data removed]"
          },
          "metadata": {}
        }
      ]
    },
    {
      "cell_type": "markdown",
      "source": [
        "#vector operations"
      ],
      "metadata": {
        "id": "8WaAv6X03gNV"
      }
    },
    {
      "cell_type": "code",
      "source": [
        "vector1=np.array([1,2,3,4,5])\n",
        "vector2=np.array([6,7,8,9,10])\n",
        "print(\"Vector addition\",vector1+vector2)\n",
        "\n",
        "print(\"\\nMultiplication of vector:\",vector1*vector2)\n",
        "\n",
        "print(\"\\nDot product\",np.dot(vector1,vector2))\n",
        "\n",
        "angle=np.arccos(np.dot(vector1,vector2)/(np.linalg.norm(vector1)*np.linalg.norm(vector2)))\n",
        "print(\"\\nAngle of vectors:\",angle)"
      ],
      "metadata": {
        "colab": {
          "base_uri": "https://localhost:8080/"
        },
        "id": "NSbkpMoj3izY",
        "outputId": "52a60925-9c20-4950-ef8b-5419446b98a1"
      },
      "execution_count": 20,
      "outputs": [
        {
          "output_type": "stream",
          "name": "stdout",
          "text": [
            "Vector addition [ 7  9 11 13 15]\n",
            "\n",
            "Multiplication of vector: [ 6 14 24 36 50]\n",
            "\n",
            "Dot product 130\n",
            "\n",
            "Angle of vectors: 0.26554161733900966\n"
          ]
        }
      ]
    },
    {
      "cell_type": "markdown",
      "source": [
        "#Vectorized operation"
      ],
      "metadata": {
        "id": "Xg4eEEcw7lbX"
      }
    },
    {
      "cell_type": "code",
      "source": [
        "restaurant_types=np.array(['biriyani','chinese','pizza','burger','tea'])\n",
        "\n",
        "vectorized_upper=np.vectorize(str.upper)\n",
        "print(\"Vectorized upper: \",vectorized_upper(restaurant_types))"
      ],
      "metadata": {
        "colab": {
          "base_uri": "https://localhost:8080/"
        },
        "id": "yTNHjrms7n-2",
        "outputId": "8a85cf3d-1b71-4c78-9042-44a01cc6cc03"
      },
      "execution_count": 21,
      "outputs": [
        {
          "output_type": "stream",
          "name": "stdout",
          "text": [
            "Vectorized upper:  ['BIRIYANI' 'CHINESE' 'PIZZA' 'BURGER' 'TEA']\n"
          ]
        }
      ]
    },
    {
      "cell_type": "markdown",
      "source": [
        "#Broadcast"
      ],
      "metadata": {
        "id": "wG934HbG8i0M"
      }
    },
    {
      "cell_type": "code",
      "source": [
        "monthly_average=sales_data[:,1:] /12\n",
        "\n",
        "print(monthly_average)"
      ],
      "metadata": {
        "colab": {
          "base_uri": "https://localhost:8080/"
        },
        "id": "TxUcDQwk8ki2",
        "outputId": "18760655-b9da-42f5-f4b6-ac80ac5dbfc4"
      },
      "execution_count": 22,
      "outputs": [
        {
          "output_type": "stream",
          "name": "stdout",
          "text": [
            "[[12500.         15000.         18333.33333333 20833.33333333]\n",
            " [10000.         11666.66666667 13333.33333333 15833.33333333]\n",
            " [16666.66666667 19166.66666667 21666.66666667 25000.        ]\n",
            " [15000.         17500.         20000.         22500.        ]\n",
            " [13333.33333333 15416.66666667 17083.33333333 17500.        ]]\n"
          ]
        }
      ]
    },
    {
      "cell_type": "markdown",
      "source": [
        "#PHASE 4"
      ],
      "metadata": {
        "id": "TnwRlt1IAPGx"
      }
    },
    {
      "cell_type": "code",
      "source": [
        "import numpy as np\n",
        "import matplotlib.pyplot as plt\n",
        "\n",
        "array1=np.array([[1,2,3],[4,5,6]])\n",
        "array2=np.random.rand(3,3)\n",
        "array3=np.zeros([4,4])\n",
        "\n",
        "np.save('array1.npy',array1)\n",
        "np.save('array2.npy',array2)\n",
        "np.save('array3.npy',array3)\n",
        "\n"
      ],
      "metadata": {
        "id": "DrosfrBUAQvY"
      },
      "execution_count": 23,
      "outputs": []
    },
    {
      "cell_type": "code",
      "source": [
        "loaded_array1=np.load('array1.npy')\n",
        "print(loaded_array1)"
      ],
      "metadata": {
        "colab": {
          "base_uri": "https://localhost:8080/"
        },
        "id": "tc-NdKfECH0X",
        "outputId": "16382d81-b9fd-4c70-9b62-067acf06d558"
      },
      "execution_count": 24,
      "outputs": [
        {
          "output_type": "stream",
          "name": "stdout",
          "text": [
            "[[1 2 3]\n",
            " [4 5 6]]\n"
          ]
        }
      ]
    },
    {
      "cell_type": "code",
      "source": [
        "try:\n",
        "  logo=np.load('numpy-tutorial.svg', allow_pickle=True)\n",
        "  #Display\n",
        "  plt.figure(figsize=(10,5))\n",
        "  plt.subplot(121)\n",
        "  plt.imshow(logo)\n",
        "  plt.title(\"Numpy logo\")\n",
        "  plt.grid(False)\n",
        "\n",
        "  dark_logo=1-logo\n",
        "  plt.subplot(122)\n",
        "  plt.imshow(dark_logo)\n",
        "  plt.title(\"Dark Numpy logo\")\n",
        "  plt.grid(False)\n",
        "  plt.show()\n",
        "\n",
        "\n",
        "\n",
        "except FileNotFoundError:\n",
        "  print(\"Numpy logo file not found.\")"
      ],
      "metadata": {
        "colab": {
          "base_uri": "https://localhost:8080/"
        },
        "id": "-GuCRPbwCiMV",
        "outputId": "d4ff5f4a-2833-4633-894f-c7e566c68352"
      },
      "execution_count": 25,
      "outputs": [
        {
          "output_type": "stream",
          "name": "stdout",
          "text": [
            "Numpy logo file not found.\n"
          ]
        }
      ]
    }
  ]
}